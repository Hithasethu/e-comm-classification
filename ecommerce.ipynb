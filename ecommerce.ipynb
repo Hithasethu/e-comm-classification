{
 "cells": [
  {
   "cell_type": "code",
   "execution_count": 39,
   "id": "d617bde8",
   "metadata": {},
   "outputs": [],
   "source": [
    "import numpy as np\n",
    "import pandas as pd\n",
    "import matplotlib.pyplot as plt\n",
    "import seaborn as sns"
   ]
  },
  {
   "cell_type": "code",
   "execution_count": 40,
   "id": "66553d52",
   "metadata": {},
   "outputs": [],
   "source": [
    "df=pd.read_csv('ecommerce_complaint_prediction.csv')"
   ]
  },
  {
   "cell_type": "code",
   "execution_count": 41,
   "id": "ef9d1903",
   "metadata": {},
   "outputs": [
    {
     "name": "stdout",
     "output_type": "stream",
     "text": [
      "<class 'pandas.core.frame.DataFrame'>\n",
      "RangeIndex: 500 entries, 0 to 499\n",
      "Data columns (total 8 columns):\n",
      " #   Column               Non-Null Count  Dtype \n",
      "---  ------               --------------  ----- \n",
      " 0   order_id             500 non-null    int64 \n",
      " 1   product_type         500 non-null    object\n",
      " 2   price                500 non-null    int64 \n",
      " 3   user_type            500 non-null    object\n",
      " 4   device               500 non-null    object\n",
      " 5   shipping_delay_days  500 non-null    int64 \n",
      " 6   return_history       500 non-null    int64 \n",
      " 7   complaint_flag       500 non-null    int64 \n",
      "dtypes: int64(5), object(3)\n",
      "memory usage: 31.4+ KB\n"
     ]
    }
   ],
   "source": [
    "df.info()"
   ]
  },
  {
   "cell_type": "code",
   "execution_count": 42,
   "id": "27dc673f",
   "metadata": {},
   "outputs": [
    {
     "data": {
      "text/plain": [
       "(500, 8)"
      ]
     },
     "execution_count": 42,
     "metadata": {},
     "output_type": "execute_result"
    }
   ],
   "source": [
    "df.shape"
   ]
  },
  {
   "cell_type": "code",
   "execution_count": 43,
   "id": "065fc235",
   "metadata": {},
   "outputs": [
    {
     "data": {
      "text/plain": [
       "Index(['order_id', 'product_type', 'price', 'user_type', 'device',\n",
       "       'shipping_delay_days', 'return_history', 'complaint_flag'],\n",
       "      dtype='object')"
      ]
     },
     "execution_count": 43,
     "metadata": {},
     "output_type": "execute_result"
    }
   ],
   "source": [
    "df.columns"
   ]
  },
  {
   "cell_type": "code",
   "execution_count": 44,
   "id": "42392532",
   "metadata": {},
   "outputs": [
    {
     "data": {
      "text/plain": [
       "order_id                int64\n",
       "product_type           object\n",
       "price                   int64\n",
       "user_type              object\n",
       "device                 object\n",
       "shipping_delay_days     int64\n",
       "return_history          int64\n",
       "complaint_flag          int64\n",
       "dtype: object"
      ]
     },
     "execution_count": 44,
     "metadata": {},
     "output_type": "execute_result"
    }
   ],
   "source": [
    "df.dtypes"
   ]
  },
  {
   "cell_type": "code",
   "execution_count": 45,
   "id": "19db28ff",
   "metadata": {},
   "outputs": [
    {
     "data": {
      "text/html": [
       "<div>\n",
       "<style scoped>\n",
       "    .dataframe tbody tr th:only-of-type {\n",
       "        vertical-align: middle;\n",
       "    }\n",
       "\n",
       "    .dataframe tbody tr th {\n",
       "        vertical-align: top;\n",
       "    }\n",
       "\n",
       "    .dataframe thead th {\n",
       "        text-align: right;\n",
       "    }\n",
       "</style>\n",
       "<table border=\"1\" class=\"dataframe\">\n",
       "  <thead>\n",
       "    <tr style=\"text-align: right;\">\n",
       "      <th></th>\n",
       "      <th>order_id</th>\n",
       "      <th>product_type</th>\n",
       "      <th>price</th>\n",
       "      <th>user_type</th>\n",
       "      <th>device</th>\n",
       "      <th>shipping_delay_days</th>\n",
       "      <th>return_history</th>\n",
       "      <th>complaint_flag</th>\n",
       "    </tr>\n",
       "  </thead>\n",
       "  <tbody>\n",
       "    <tr>\n",
       "      <th>0</th>\n",
       "      <td>1</td>\n",
       "      <td>books</td>\n",
       "      <td>370</td>\n",
       "      <td>new</td>\n",
       "      <td>mobile</td>\n",
       "      <td>6</td>\n",
       "      <td>0</td>\n",
       "      <td>1</td>\n",
       "    </tr>\n",
       "    <tr>\n",
       "      <th>1</th>\n",
       "      <td>2</td>\n",
       "      <td>home_decor</td>\n",
       "      <td>2224</td>\n",
       "      <td>new</td>\n",
       "      <td>desktop</td>\n",
       "      <td>3</td>\n",
       "      <td>0</td>\n",
       "      <td>0</td>\n",
       "    </tr>\n",
       "    <tr>\n",
       "      <th>2</th>\n",
       "      <td>3</td>\n",
       "      <td>beauty</td>\n",
       "      <td>414</td>\n",
       "      <td>repeat</td>\n",
       "      <td>desktop</td>\n",
       "      <td>1</td>\n",
       "      <td>1</td>\n",
       "      <td>0</td>\n",
       "    </tr>\n",
       "    <tr>\n",
       "      <th>3</th>\n",
       "      <td>4</td>\n",
       "      <td>beauty</td>\n",
       "      <td>287</td>\n",
       "      <td>new</td>\n",
       "      <td>desktop</td>\n",
       "      <td>3</td>\n",
       "      <td>0</td>\n",
       "      <td>0</td>\n",
       "    </tr>\n",
       "    <tr>\n",
       "      <th>4</th>\n",
       "      <td>5</td>\n",
       "      <td>home_decor</td>\n",
       "      <td>1371</td>\n",
       "      <td>repeat</td>\n",
       "      <td>mobile</td>\n",
       "      <td>3</td>\n",
       "      <td>0</td>\n",
       "      <td>1</td>\n",
       "    </tr>\n",
       "  </tbody>\n",
       "</table>\n",
       "</div>"
      ],
      "text/plain": [
       "   order_id product_type  price user_type   device  shipping_delay_days  \\\n",
       "0         1        books    370       new   mobile                    6   \n",
       "1         2   home_decor   2224       new  desktop                    3   \n",
       "2         3       beauty    414    repeat  desktop                    1   \n",
       "3         4       beauty    287       new  desktop                    3   \n",
       "4         5   home_decor   1371    repeat   mobile                    3   \n",
       "\n",
       "   return_history  complaint_flag  \n",
       "0               0               1  \n",
       "1               0               0  \n",
       "2               1               0  \n",
       "3               0               0  \n",
       "4               0               1  "
      ]
     },
     "execution_count": 45,
     "metadata": {},
     "output_type": "execute_result"
    }
   ],
   "source": [
    "df.head()"
   ]
  },
  {
   "cell_type": "code",
   "execution_count": 46,
   "id": "5360b3f2",
   "metadata": {},
   "outputs": [
    {
     "data": {
      "text/html": [
       "<div>\n",
       "<style scoped>\n",
       "    .dataframe tbody tr th:only-of-type {\n",
       "        vertical-align: middle;\n",
       "    }\n",
       "\n",
       "    .dataframe tbody tr th {\n",
       "        vertical-align: top;\n",
       "    }\n",
       "\n",
       "    .dataframe thead th {\n",
       "        text-align: right;\n",
       "    }\n",
       "</style>\n",
       "<table border=\"1\" class=\"dataframe\">\n",
       "  <thead>\n",
       "    <tr style=\"text-align: right;\">\n",
       "      <th></th>\n",
       "      <th>order_id</th>\n",
       "      <th>product_type</th>\n",
       "      <th>price</th>\n",
       "      <th>user_type</th>\n",
       "      <th>device</th>\n",
       "      <th>shipping_delay_days</th>\n",
       "      <th>return_history</th>\n",
       "      <th>complaint_flag</th>\n",
       "    </tr>\n",
       "  </thead>\n",
       "  <tbody>\n",
       "    <tr>\n",
       "      <th>495</th>\n",
       "      <td>496</td>\n",
       "      <td>beauty</td>\n",
       "      <td>306</td>\n",
       "      <td>new</td>\n",
       "      <td>mobile</td>\n",
       "      <td>1</td>\n",
       "      <td>1</td>\n",
       "      <td>0</td>\n",
       "    </tr>\n",
       "    <tr>\n",
       "      <th>496</th>\n",
       "      <td>497</td>\n",
       "      <td>clothing</td>\n",
       "      <td>517</td>\n",
       "      <td>repeat</td>\n",
       "      <td>mobile</td>\n",
       "      <td>7</td>\n",
       "      <td>0</td>\n",
       "      <td>0</td>\n",
       "    </tr>\n",
       "    <tr>\n",
       "      <th>497</th>\n",
       "      <td>498</td>\n",
       "      <td>home_decor</td>\n",
       "      <td>1005</td>\n",
       "      <td>repeat</td>\n",
       "      <td>mobile</td>\n",
       "      <td>5</td>\n",
       "      <td>0</td>\n",
       "      <td>0</td>\n",
       "    </tr>\n",
       "    <tr>\n",
       "      <th>498</th>\n",
       "      <td>499</td>\n",
       "      <td>books</td>\n",
       "      <td>616</td>\n",
       "      <td>new</td>\n",
       "      <td>mobile</td>\n",
       "      <td>1</td>\n",
       "      <td>0</td>\n",
       "      <td>0</td>\n",
       "    </tr>\n",
       "    <tr>\n",
       "      <th>499</th>\n",
       "      <td>500</td>\n",
       "      <td>electronics</td>\n",
       "      <td>4118</td>\n",
       "      <td>repeat</td>\n",
       "      <td>mobile</td>\n",
       "      <td>0</td>\n",
       "      <td>0</td>\n",
       "      <td>0</td>\n",
       "    </tr>\n",
       "  </tbody>\n",
       "</table>\n",
       "</div>"
      ],
      "text/plain": [
       "     order_id product_type  price user_type  device  shipping_delay_days  \\\n",
       "495       496       beauty    306       new  mobile                    1   \n",
       "496       497     clothing    517    repeat  mobile                    7   \n",
       "497       498   home_decor   1005    repeat  mobile                    5   \n",
       "498       499        books    616       new  mobile                    1   \n",
       "499       500  electronics   4118    repeat  mobile                    0   \n",
       "\n",
       "     return_history  complaint_flag  \n",
       "495               1               0  \n",
       "496               0               0  \n",
       "497               0               0  \n",
       "498               0               0  \n",
       "499               0               0  "
      ]
     },
     "execution_count": 46,
     "metadata": {},
     "output_type": "execute_result"
    }
   ],
   "source": [
    "df.tail()"
   ]
  },
  {
   "cell_type": "code",
   "execution_count": 47,
   "id": "b22b9adb",
   "metadata": {},
   "outputs": [
    {
     "data": {
      "text/plain": [
       "order_id               0\n",
       "product_type           0\n",
       "price                  0\n",
       "user_type              0\n",
       "device                 0\n",
       "shipping_delay_days    0\n",
       "return_history         0\n",
       "complaint_flag         0\n",
       "dtype: int64"
      ]
     },
     "execution_count": 47,
     "metadata": {},
     "output_type": "execute_result"
    }
   ],
   "source": [
    "df.isna().sum()"
   ]
  },
  {
   "cell_type": "code",
   "execution_count": 48,
   "id": "e383261b",
   "metadata": {},
   "outputs": [
    {
     "data": {
      "text/html": [
       "<div>\n",
       "<style scoped>\n",
       "    .dataframe tbody tr th:only-of-type {\n",
       "        vertical-align: middle;\n",
       "    }\n",
       "\n",
       "    .dataframe tbody tr th {\n",
       "        vertical-align: top;\n",
       "    }\n",
       "\n",
       "    .dataframe thead th {\n",
       "        text-align: right;\n",
       "    }\n",
       "</style>\n",
       "<table border=\"1\" class=\"dataframe\">\n",
       "  <thead>\n",
       "    <tr style=\"text-align: right;\">\n",
       "      <th></th>\n",
       "      <th>order_id</th>\n",
       "      <th>price</th>\n",
       "      <th>shipping_delay_days</th>\n",
       "      <th>return_history</th>\n",
       "      <th>complaint_flag</th>\n",
       "    </tr>\n",
       "  </thead>\n",
       "  <tbody>\n",
       "    <tr>\n",
       "      <th>order_id</th>\n",
       "      <td>1.000000</td>\n",
       "      <td>0.044661</td>\n",
       "      <td>-0.007767</td>\n",
       "      <td>0.007782</td>\n",
       "      <td>-0.042002</td>\n",
       "    </tr>\n",
       "    <tr>\n",
       "      <th>price</th>\n",
       "      <td>0.044661</td>\n",
       "      <td>1.000000</td>\n",
       "      <td>0.068423</td>\n",
       "      <td>-0.011485</td>\n",
       "      <td>0.078855</td>\n",
       "    </tr>\n",
       "    <tr>\n",
       "      <th>shipping_delay_days</th>\n",
       "      <td>-0.007767</td>\n",
       "      <td>0.068423</td>\n",
       "      <td>1.000000</td>\n",
       "      <td>0.005355</td>\n",
       "      <td>0.428538</td>\n",
       "    </tr>\n",
       "    <tr>\n",
       "      <th>return_history</th>\n",
       "      <td>0.007782</td>\n",
       "      <td>-0.011485</td>\n",
       "      <td>0.005355</td>\n",
       "      <td>1.000000</td>\n",
       "      <td>-0.026094</td>\n",
       "    </tr>\n",
       "    <tr>\n",
       "      <th>complaint_flag</th>\n",
       "      <td>-0.042002</td>\n",
       "      <td>0.078855</td>\n",
       "      <td>0.428538</td>\n",
       "      <td>-0.026094</td>\n",
       "      <td>1.000000</td>\n",
       "    </tr>\n",
       "  </tbody>\n",
       "</table>\n",
       "</div>"
      ],
      "text/plain": [
       "                     order_id     price  shipping_delay_days  return_history  \\\n",
       "order_id             1.000000  0.044661            -0.007767        0.007782   \n",
       "price                0.044661  1.000000             0.068423       -0.011485   \n",
       "shipping_delay_days -0.007767  0.068423             1.000000        0.005355   \n",
       "return_history       0.007782 -0.011485             0.005355        1.000000   \n",
       "complaint_flag      -0.042002  0.078855             0.428538       -0.026094   \n",
       "\n",
       "                     complaint_flag  \n",
       "order_id                  -0.042002  \n",
       "price                      0.078855  \n",
       "shipping_delay_days        0.428538  \n",
       "return_history            -0.026094  \n",
       "complaint_flag             1.000000  "
      ]
     },
     "execution_count": 48,
     "metadata": {},
     "output_type": "execute_result"
    }
   ],
   "source": [
    "df.corr(numeric_only=True)"
   ]
  },
  {
   "cell_type": "code",
   "execution_count": 49,
   "id": "3b085894",
   "metadata": {},
   "outputs": [
    {
     "data": {
      "text/plain": [
       "<Axes: >"
      ]
     },
     "execution_count": 49,
     "metadata": {},
     "output_type": "execute_result"
    },
    {
     "data": {
      "image/png": "[encoded data removed]",
      "text/plain": [
       "<Figure size 640x480 with 2 Axes>"
      ]
     },
     "metadata": {},
     "output_type": "display_data"
    }
   ],
   "source": [
    "sns.heatmap(df.corr(numeric_only=True))"
   ]
  },
  {
   "cell_type": "code",
   "execution_count": 50,
   "id": "a771328c",
   "metadata": {},
   "outputs": [],
   "source": [
    "\n",
    "df.drop(['order_id','return_history'],axis=1,inplace=True)"
   ]
  },
  {
   "cell_type": "code",
   "execution_count": 51,
   "id": "9900b576",
   "metadata": {},
   "outputs": [
    {
     "data": {
      "text/plain": [
       "device\n",
       "mobile     259\n",
       "desktop    241\n",
       "Name: count, dtype: int64"
      ]
     },
     "execution_count": 51,
     "metadata": {},
     "output_type": "execute_result"
    }
   ],
   "source": [
    "df['device'].value_counts()"
   ]
  },
  {
   "cell_type": "code",
   "execution_count": 52,
   "id": "13d2fcd0",
   "metadata": {},
   "outputs": [
    {
     "data": {
      "text/plain": [
       "Text(0.5, 1.0, 'Count of Device')"
      ]
     },
     "execution_count": 52,
     "metadata": {},
     "output_type": "execute_result"
    },
    {
     "data": {
      "image/png": "[encoded data removed]",
      "text/plain": [
       "<Figure size 640x480 with 1 Axes>"
      ]
     },
     "metadata": {},
     "output_type": "display_data"
    }
   ],
   "source": [
    "sns.countplot(x=df['device'])\n",
    "plt.title('Count of Device')"
   ]
  },
  {
   "cell_type": "code",
   "execution_count": 53,
   "id": "9956495f",
   "metadata": {},
   "outputs": [
    {
     "data": {
      "text/plain": [
       "<Axes: xlabel='device', ylabel='count'>"
      ]
     },
     "execution_count": 53,
     "metadata": {},
     "output_type": "execute_result"
    },
    {
     "data": {
      "image/png": "[encoded data removed]",
      "text/plain": [
       "<Figure size 640x480 with 1 Axes>"
      ]
     },
     "metadata": {},
     "output_type": "display_data"
    }
   ],
   "source": [
    "#how did the count on device affected the complaint registrations\n",
    "sns.countplot(x=df['device'],hue='complaint_flag',data=df)"
   ]
  },
  {
   "cell_type": "code",
   "execution_count": 54,
   "id": "b9af231f",
   "metadata": {},
   "outputs": [
    {
     "data": {
      "text/plain": [
       "product_type\n",
       "books          107\n",
       "beauty         106\n",
       "home_decor     100\n",
       "electronics    100\n",
       "clothing        87\n",
       "Name: count, dtype: int64"
      ]
     },
     "execution_count": 54,
     "metadata": {},
     "output_type": "execute_result"
    }
   ],
   "source": [
    "df['product_type'].value_counts()"
   ]
  },
  {
   "cell_type": "code",
   "execution_count": 55,
   "id": "11bd61d1",
   "metadata": {},
   "outputs": [
    {
     "data": {
      "text/plain": [
       "Text(0.5, 1.0, 'Different Product')"
      ]
     },
     "execution_count": 55,
     "metadata": {},
     "output_type": "execute_result"
    },
    {
     "data": {
      "image/png": "[encoded data removed]",
      "text/plain": [
       "<Figure size 640x480 with 1 Axes>"
      ]
     },
     "metadata": {},
     "output_type": "display_data"
    }
   ],
   "source": [
    "sns.countplot(x=df['product_type'])\n",
    "plt.title('Different Product')"
   ]
  },
  {
   "cell_type": "code",
   "execution_count": 56,
   "id": "6aba68b6",
   "metadata": {},
   "outputs": [
    {
     "data": {
      "text/plain": [
       "<Axes: xlabel='product_type', ylabel='count'>"
      ]
     },
     "execution_count": 56,
     "metadata": {},
     "output_type": "execute_result"
    },
    {
     "data": {
      "image/png": "[encoded data removed]",
      "text/plain": [
       "<Figure size 640x480 with 1 Axes>"
      ]
     },
     "metadata": {},
     "output_type": "display_data"
    }
   ],
   "source": [
    "#which product registered more complaints\n",
    "sns.countplot(x=df['product_type'],data=df,hue='complaint_flag')"
   ]
  },
  {
   "cell_type": "code",
   "execution_count": 57,
   "id": "d7a082dd",
   "metadata": {},
   "outputs": [],
   "source": [
    "#People who bought beauty products registered more complaints"
   ]
  },
  {
   "cell_type": "code",
   "execution_count": 58,
   "id": "af8a443a",
   "metadata": {},
   "outputs": [
    {
     "data": {
      "text/plain": [
       "Text(0.5, 1.0, 'Count of Users')"
      ]
     },
     "execution_count": 58,
     "metadata": {},
     "output_type": "execute_result"
    },
    {
     "data": {
      "image/png": "[encoded data removed]",
      "text/plain": [
       "<Figure size 640x480 with 1 Axes>"
      ]
     },
     "metadata": {},
     "output_type": "display_data"
    }
   ],
   "source": [
    "sns.countplot(x=df['user_type'])\n",
    "plt.title('Count of Users')"
   ]
  },
  {
   "cell_type": "code",
   "execution_count": 59,
   "id": "cc6e1576",
   "metadata": {},
   "outputs": [
    {
     "data": {
      "text/plain": [
       "<Axes: xlabel='user_type', ylabel='count'>"
      ]
     },
     "execution_count": 59,
     "metadata": {},
     "output_type": "execute_result"
    },
    {
     "data": {
      "image/png": "[encoded data removed]",
      "text/plain": [
       "<Figure size 640x480 with 1 Axes>"
      ]
     },
     "metadata": {},
     "output_type": "display_data"
    }
   ],
   "source": [
    "#which users regestered more complaints(new/repeat)\n",
    "sns.countplot(x=df['user_type'],data=df,hue='complaint_flag')\n"
   ]
  },
  {
   "cell_type": "code",
   "execution_count": 60,
   "id": "23506f04",
   "metadata": {},
   "outputs": [],
   "source": [
    "#repeated customers have less complaint compared new ones. "
   ]
  },
  {
   "cell_type": "code",
   "execution_count": 61,
   "id": "75de3a54",
   "metadata": {},
   "outputs": [
    {
     "name": "stdout",
     "output_type": "stream",
     "text": [
      "{'product_type': np.float64(0.0944582760889165), 'user_type': np.float64(3.5634354748224446e-22), 'device': np.float64(0.6479297033231366)}\n"
     ]
    }
   ],
   "source": [
    "#chi-Square test\n",
    "cat=df.select_dtypes(include='object')\n",
    "from scipy.stats import chi2_contingency\n",
    "def ch2(col):\n",
    "  con_table=pd.crosstab(df[col],df['complaint_flag'])\n",
    "  chi2, p, dof, expected=chi2_contingency(con_table)\n",
    "  return p\n",
    "ch2_value={col: ch2(col) for col in cat.columns}\n",
    "print(ch2_value)"
   ]
  },
  {
   "cell_type": "code",
   "execution_count": 62,
   "id": "3f906f9e",
   "metadata": {},
   "outputs": [
    {
     "name": "stdout",
     "output_type": "stream",
     "text": [
      "Significant columns: ['user_type']\n"
     ]
    }
   ],
   "source": [
    "# Filter for significant associations (p < 0.05)\n",
    "significant_cols = [col for col, p in ch2_value.items() if p < 0.05]\n",
    "print(\"Significant columns:\", significant_cols)\n"
   ]
  },
  {
   "cell_type": "code",
   "execution_count": 63,
   "id": "fa1cd052",
   "metadata": {},
   "outputs": [],
   "source": [
    "df.drop(['device','product_type'],axis=1,inplace=True)"
   ]
  },
  {
   "cell_type": "code",
   "execution_count": 64,
   "id": "c63614f3",
   "metadata": {},
   "outputs": [
    {
     "data": {
      "text/plain": [
       "<Axes: ylabel='price'>"
      ]
     },
     "execution_count": 64,
     "metadata": {},
     "output_type": "execute_result"
    },
    {
     "data": {
      "image/png": "[encoded data removed]",
      "text/plain": [
       "<Figure size 640x480 with 1 Axes>"
      ]
     },
     "metadata": {},
     "output_type": "display_data"
    }
   ],
   "source": [
    "sns.boxplot(df['price'])"
   ]
  },
  {
   "cell_type": "code",
   "execution_count": 65,
   "id": "78781582",
   "metadata": {},
   "outputs": [
    {
     "data": {
      "image/png": "[encoded data removed]",
      "text/plain": [
       "<Figure size 640x480 with 1 Axes>"
      ]
     },
     "metadata": {},
     "output_type": "display_data"
    }
   ],
   "source": [
    "Q1 = df['price'].quantile(0.25)\n",
    "Q3 = df['price'].quantile(0.75)\n",
    "IQR = Q3 - Q1\n",
    "\n",
    "lower_bound = Q1 - 1.5 * IQR\n",
    "upper_bound = Q3 + 1.5 * IQR\n",
    "\n",
    "df=df[(df['price'] >= lower_bound) & (df['price'] <= upper_bound)]\n",
    "sns.boxplot(data=df['price'])\n",
    "plt.title(\"Boxplot without Outliers\")\n",
    "plt.show()"
   ]
  },
  {
   "cell_type": "code",
   "execution_count": 66,
   "id": "1c3468ae",
   "metadata": {},
   "outputs": [
    {
     "data": {
      "text/plain": [
       "<Axes: ylabel='shipping_delay_days'>"
      ]
     },
     "execution_count": 66,
     "metadata": {},
     "output_type": "execute_result"
    },
    {
     "data": {
      "image/png": "[encoded data removed]",
      "text/plain": [
       "<Figure size 640x480 with 1 Axes>"
      ]
     },
     "metadata": {},
     "output_type": "display_data"
    }
   ],
   "source": [
    "sns.boxplot(df['shipping_delay_days'])"
   ]
  },
  {
   "cell_type": "code",
   "execution_count": 69,
   "id": "0735b44a",
   "metadata": {},
   "outputs": [
    {
     "data": {
      "text/html": [
       "<div>\n",
       "<style scoped>\n",
       "    .dataframe tbody tr th:only-of-type {\n",
       "        vertical-align: middle;\n",
       "    }\n",
       "\n",
       "    .dataframe tbody tr th {\n",
       "        vertical-align: top;\n",
       "    }\n",
       "\n",
       "    .dataframe thead th {\n",
       "        text-align: right;\n",
       "    }\n",
       "</style>\n",
       "<table border=\"1\" class=\"dataframe\">\n",
       "  <thead>\n",
       "    <tr style=\"text-align: right;\">\n",
       "      <th></th>\n",
       "      <th>user_type_repeat</th>\n",
       "    </tr>\n",
       "  </thead>\n",
       "  <tbody>\n",
       "    <tr>\n",
       "      <th>0</th>\n",
       "      <td>0</td>\n",
       "    </tr>\n",
       "    <tr>\n",
       "      <th>1</th>\n",
       "      <td>0</td>\n",
       "    </tr>\n",
       "    <tr>\n",
       "      <th>2</th>\n",
       "      <td>1</td>\n",
       "    </tr>\n",
       "    <tr>\n",
       "      <th>3</th>\n",
       "      <td>0</td>\n",
       "    </tr>\n",
       "    <tr>\n",
       "      <th>4</th>\n",
       "      <td>1</td>\n",
       "    </tr>\n",
       "    <tr>\n",
       "      <th>...</th>\n",
       "      <td>...</td>\n",
       "    </tr>\n",
       "    <tr>\n",
       "      <th>494</th>\n",
       "      <td>1</td>\n",
       "    </tr>\n",
       "    <tr>\n",
       "      <th>495</th>\n",
       "      <td>0</td>\n",
       "    </tr>\n",
       "    <tr>\n",
       "      <th>496</th>\n",
       "      <td>1</td>\n",
       "    </tr>\n",
       "    <tr>\n",
       "      <th>497</th>\n",
       "      <td>1</td>\n",
       "    </tr>\n",
       "    <tr>\n",
       "      <th>498</th>\n",
       "      <td>0</td>\n",
       "    </tr>\n",
       "  </tbody>\n",
       "</table>\n",
       "<p>456 rows × 1 columns</p>\n",
       "</div>"
      ],
      "text/plain": [
       "     user_type_repeat\n",
       "0                   0\n",
       "1                   0\n",
       "2                   1\n",
       "3                   0\n",
       "4                   1\n",
       "..                ...\n",
       "494                 1\n",
       "495                 0\n",
       "496                 1\n",
       "497                 1\n",
       "498                 0\n",
       "\n",
       "[456 rows x 1 columns]"
      ]
     },
     "execution_count": 69,
     "metadata": {},
     "output_type": "execute_result"
    }
   ],
   "source": [
    "df_e=pd.get_dummies(df[['user_type']],drop_first=True,dtype=int)\n",
    "df_e"
   ]
  },
  {
   "cell_type": "code",
   "execution_count": 70,
   "id": "c8478f28",
   "metadata": {},
   "outputs": [
    {
     "data": {
      "text/html": [
       "<div>\n",
       "<style scoped>\n",
       "    .dataframe tbody tr th:only-of-type {\n",
       "        vertical-align: middle;\n",
       "    }\n",
       "\n",
       "    .dataframe tbody tr th {\n",
       "        vertical-align: top;\n",
       "    }\n",
       "\n",
       "    .dataframe thead th {\n",
       "        text-align: right;\n",
       "    }\n",
       "</style>\n",
       "<table border=\"1\" class=\"dataframe\">\n",
       "  <thead>\n",
       "    <tr style=\"text-align: right;\">\n",
       "      <th></th>\n",
       "      <th>price</th>\n",
       "      <th>user_type</th>\n",
       "      <th>shipping_delay_days</th>\n",
       "      <th>complaint_flag</th>\n",
       "      <th>user_type_repeat</th>\n",
       "    </tr>\n",
       "  </thead>\n",
       "  <tbody>\n",
       "    <tr>\n",
       "      <th>0</th>\n",
       "      <td>370</td>\n",
       "      <td>new</td>\n",
       "      <td>6</td>\n",
       "      <td>1</td>\n",
       "      <td>0</td>\n",
       "    </tr>\n",
       "    <tr>\n",
       "      <th>1</th>\n",
       "      <td>2224</td>\n",
       "      <td>new</td>\n",
       "      <td>3</td>\n",
       "      <td>0</td>\n",
       "      <td>0</td>\n",
       "    </tr>\n",
       "    <tr>\n",
       "      <th>2</th>\n",
       "      <td>414</td>\n",
       "      <td>repeat</td>\n",
       "      <td>1</td>\n",
       "      <td>0</td>\n",
       "      <td>1</td>\n",
       "    </tr>\n",
       "    <tr>\n",
       "      <th>3</th>\n",
       "      <td>287</td>\n",
       "      <td>new</td>\n",
       "      <td>3</td>\n",
       "      <td>0</td>\n",
       "      <td>0</td>\n",
       "    </tr>\n",
       "    <tr>\n",
       "      <th>4</th>\n",
       "      <td>1371</td>\n",
       "      <td>repeat</td>\n",
       "      <td>3</td>\n",
       "      <td>1</td>\n",
       "      <td>1</td>\n",
       "    </tr>\n",
       "    <tr>\n",
       "      <th>...</th>\n",
       "      <td>...</td>\n",
       "      <td>...</td>\n",
       "      <td>...</td>\n",
       "      <td>...</td>\n",
       "      <td>...</td>\n",
       "    </tr>\n",
       "    <tr>\n",
       "      <th>494</th>\n",
       "      <td>1184</td>\n",
       "      <td>repeat</td>\n",
       "      <td>5</td>\n",
       "      <td>0</td>\n",
       "      <td>1</td>\n",
       "    </tr>\n",
       "    <tr>\n",
       "      <th>495</th>\n",
       "      <td>306</td>\n",
       "      <td>new</td>\n",
       "      <td>1</td>\n",
       "      <td>0</td>\n",
       "      <td>0</td>\n",
       "    </tr>\n",
       "    <tr>\n",
       "      <th>496</th>\n",
       "      <td>517</td>\n",
       "      <td>repeat</td>\n",
       "      <td>7</td>\n",
       "      <td>0</td>\n",
       "      <td>1</td>\n",
       "    </tr>\n",
       "    <tr>\n",
       "      <th>497</th>\n",
       "      <td>1005</td>\n",
       "      <td>repeat</td>\n",
       "      <td>5</td>\n",
       "      <td>0</td>\n",
       "      <td>1</td>\n",
       "    </tr>\n",
       "    <tr>\n",
       "      <th>498</th>\n",
       "      <td>616</td>\n",
       "      <td>new</td>\n",
       "      <td>1</td>\n",
       "      <td>0</td>\n",
       "      <td>0</td>\n",
       "    </tr>\n",
       "  </tbody>\n",
       "</table>\n",
       "<p>456 rows × 5 columns</p>\n",
       "</div>"
      ],
      "text/plain": [
       "     price user_type  shipping_delay_days  complaint_flag  user_type_repeat\n",
       "0      370       new                    6               1                 0\n",
       "1     2224       new                    3               0                 0\n",
       "2      414    repeat                    1               0                 1\n",
       "3      287       new                    3               0                 0\n",
       "4     1371    repeat                    3               1                 1\n",
       "..     ...       ...                  ...             ...               ...\n",
       "494   1184    repeat                    5               0                 1\n",
       "495    306       new                    1               0                 0\n",
       "496    517    repeat                    7               0                 1\n",
       "497   1005    repeat                    5               0                 1\n",
       "498    616       new                    1               0                 0\n",
       "\n",
       "[456 rows x 5 columns]"
      ]
     },
     "execution_count": 70,
     "metadata": {},
     "output_type": "execute_result"
    }
   ],
   "source": [
    "df1=pd.concat([df,df_e],axis=1)\n",
    "df1"
   ]
  },
  {
   "cell_type": "code",
   "execution_count": 72,
   "id": "045c7ec1",
   "metadata": {},
   "outputs": [
    {
     "data": {
      "text/html": [
       "<div>\n",
       "<style scoped>\n",
       "    .dataframe tbody tr th:only-of-type {\n",
       "        vertical-align: middle;\n",
       "    }\n",
       "\n",
       "    .dataframe tbody tr th {\n",
       "        vertical-align: top;\n",
       "    }\n",
       "\n",
       "    .dataframe thead th {\n",
       "        text-align: right;\n",
       "    }\n",
       "</style>\n",
       "<table border=\"1\" class=\"dataframe\">\n",
       "  <thead>\n",
       "    <tr style=\"text-align: right;\">\n",
       "      <th></th>\n",
       "      <th>price</th>\n",
       "      <th>shipping_delay_days</th>\n",
       "      <th>complaint_flag</th>\n",
       "      <th>user_type_repeat</th>\n",
       "    </tr>\n",
       "  </thead>\n",
       "  <tbody>\n",
       "    <tr>\n",
       "      <th>0</th>\n",
       "      <td>370</td>\n",
       "      <td>6</td>\n",
       "      <td>1</td>\n",
       "      <td>0</td>\n",
       "    </tr>\n",
       "    <tr>\n",
       "      <th>1</th>\n",
       "      <td>2224</td>\n",
       "      <td>3</td>\n",
       "      <td>0</td>\n",
       "      <td>0</td>\n",
       "    </tr>\n",
       "    <tr>\n",
       "      <th>2</th>\n",
       "      <td>414</td>\n",
       "      <td>1</td>\n",
       "      <td>0</td>\n",
       "      <td>1</td>\n",
       "    </tr>\n",
       "    <tr>\n",
       "      <th>3</th>\n",
       "      <td>287</td>\n",
       "      <td>3</td>\n",
       "      <td>0</td>\n",
       "      <td>0</td>\n",
       "    </tr>\n",
       "    <tr>\n",
       "      <th>4</th>\n",
       "      <td>1371</td>\n",
       "      <td>3</td>\n",
       "      <td>1</td>\n",
       "      <td>1</td>\n",
       "    </tr>\n",
       "    <tr>\n",
       "      <th>...</th>\n",
       "      <td>...</td>\n",
       "      <td>...</td>\n",
       "      <td>...</td>\n",
       "      <td>...</td>\n",
       "    </tr>\n",
       "    <tr>\n",
       "      <th>494</th>\n",
       "      <td>1184</td>\n",
       "      <td>5</td>\n",
       "      <td>0</td>\n",
       "      <td>1</td>\n",
       "    </tr>\n",
       "    <tr>\n",
       "      <th>495</th>\n",
       "      <td>306</td>\n",
       "      <td>1</td>\n",
       "      <td>0</td>\n",
       "      <td>0</td>\n",
       "    </tr>\n",
       "    <tr>\n",
       "      <th>496</th>\n",
       "      <td>517</td>\n",
       "      <td>7</td>\n",
       "      <td>0</td>\n",
       "      <td>1</td>\n",
       "    </tr>\n",
       "    <tr>\n",
       "      <th>497</th>\n",
       "      <td>1005</td>\n",
       "      <td>5</td>\n",
       "      <td>0</td>\n",
       "      <td>1</td>\n",
       "    </tr>\n",
       "    <tr>\n",
       "      <th>498</th>\n",
       "      <td>616</td>\n",
       "      <td>1</td>\n",
       "      <td>0</td>\n",
       "      <td>0</td>\n",
       "    </tr>\n",
       "  </tbody>\n",
       "</table>\n",
       "<p>456 rows × 4 columns</p>\n",
       "</div>"
      ],
      "text/plain": [
       "     price  shipping_delay_days  complaint_flag  user_type_repeat\n",
       "0      370                    6               1                 0\n",
       "1     2224                    3               0                 0\n",
       "2      414                    1               0                 1\n",
       "3      287                    3               0                 0\n",
       "4     1371                    3               1                 1\n",
       "..     ...                  ...             ...               ...\n",
       "494   1184                    5               0                 1\n",
       "495    306                    1               0                 0\n",
       "496    517                    7               0                 1\n",
       "497   1005                    5               0                 1\n",
       "498    616                    1               0                 0\n",
       "\n",
       "[456 rows x 4 columns]"
      ]
     },
     "execution_count": 72,
     "metadata": {},
     "output_type": "execute_result"
    }
   ],
   "source": [
    "df1.drop(['user_type'],axis=1,inplace=True)\n",
    "df1"
   ]
  },
  {
   "cell_type": "code",
   "execution_count": 73,
   "id": "b0f89bb0",
   "metadata": {},
   "outputs": [
    {
     "data": {
      "text/plain": [
       "complaint_flag\n",
       "0    316\n",
       "1    140\n",
       "Name: count, dtype: int64"
      ]
     },
     "execution_count": 73,
     "metadata": {},
     "output_type": "execute_result"
    }
   ],
   "source": [
    "df['complaint_flag'].value_counts()"
   ]
  },
  {
   "cell_type": "code",
   "execution_count": 74,
   "id": "ab2513a1",
   "metadata": {},
   "outputs": [],
   "source": [
    "#smote\n",
    "from imblearn.over_sampling import SMOTE\n",
    "from sklearn.preprocessing import LabelEncoder\n",
    "x=df.drop(['complaint_flag'],axis=1)\n",
    "col=x.select_dtypes(include='object').columns\n",
    "for co in col:\n",
    "    x[co]=LabelEncoder().fit_transform(x[co])\n",
    "y=df['complaint_flag']\n",
    "sm=SMOTE(random_state=42)\n",
    "x_re,y_re=sm.fit_resample(x,y)\n",
    "\n"
   ]
  },
  {
   "cell_type": "code",
   "execution_count": 75,
   "id": "50b39ee0",
   "metadata": {},
   "outputs": [
    {
     "data": {
      "text/plain": [
       "complaint_flag\n",
       "1    316\n",
       "0    316\n",
       "Name: count, dtype: int64"
      ]
     },
     "execution_count": 75,
     "metadata": {},
     "output_type": "execute_result"
    }
   ],
   "source": [
    "y_re.value_counts()"
   ]
  },
  {
   "cell_type": "code",
   "execution_count": 76,
   "id": "80b77fcb",
   "metadata": {},
   "outputs": [],
   "source": [
    "from sklearn.model_selection import train_test_split\n",
    "x_train,x_test,y_train,y_test=train_test_split(x_re,y_re,test_size=0.30,random_state=42)"
   ]
  },
  {
   "cell_type": "code",
   "execution_count": 77,
   "id": "22730069",
   "metadata": {},
   "outputs": [],
   "source": [
    "#normalisation\n",
    "from sklearn.preprocessing import StandardScaler\n",
    "scaler=StandardScaler()\n",
    "x_train=scaler.fit_transform(x_train)\n",
    "x_test=scaler.transform(x_test)"
   ]
  },
  {
   "cell_type": "code",
   "execution_count": 84,
   "id": "8807f32c",
   "metadata": {},
   "outputs": [],
   "source": [
    "#model creation\n",
    "from sklearn.neighbors import KNeighborsClassifier\n",
    "from sklearn.naive_bayes import BernoulliNB\n",
    "from sklearn.svm import SVC\n",
    "from sklearn.metrics import confusion_matrix,classification_report\n",
    "knn=KNeighborsClassifier(n_neighbors=7)\n",
    "naive=BernoulliNB()\n",
    "sv=SVC()\n",
    "model=[knn,naive,sv]"
   ]
  },
  {
   "cell_type": "code",
   "execution_count": 85,
   "id": "65ee3f08",
   "metadata": {},
   "outputs": [
    {
     "name": "stdout",
     "output_type": "stream",
     "text": [
      "KNeighborsClassifier(n_neighbors=7) **********\n",
      "              precision    recall  f1-score   support\n",
      "\n",
      "           0       0.90      0.95      0.92       102\n",
      "           1       0.94      0.88      0.91        88\n",
      "\n",
      "    accuracy                           0.92       190\n",
      "   macro avg       0.92      0.91      0.91       190\n",
      "weighted avg       0.92      0.92      0.92       190\n",
      "\n",
      "BernoulliNB() **********\n",
      "              precision    recall  f1-score   support\n",
      "\n",
      "           0       0.87      1.00      0.93       102\n",
      "           1       1.00      0.83      0.91        88\n",
      "\n",
      "    accuracy                           0.92       190\n",
      "   macro avg       0.94      0.91      0.92       190\n",
      "weighted avg       0.93      0.92      0.92       190\n",
      "\n",
      "SVC() **********\n",
      "              precision    recall  f1-score   support\n",
      "\n",
      "           0       0.89      0.96      0.92       102\n",
      "           1       0.95      0.86      0.90        88\n",
      "\n",
      "    accuracy                           0.92       190\n",
      "   macro avg       0.92      0.91      0.91       190\n",
      "weighted avg       0.92      0.92      0.92       190\n",
      "\n"
     ]
    }
   ],
   "source": [
    "for i in model:\n",
    "    print(i,'*'*10)\n",
    "    i.fit(x_train,y_train)\n",
    "    y_pred=i.predict(x_test)\n",
    "    print(classification_report(y_test,y_pred))"
   ]
  },
  {
   "cell_type": "code",
   "execution_count": 86,
   "id": "9d3d7721",
   "metadata": {},
   "outputs": [
    {
     "name": "stdout",
     "output_type": "stream",
     "text": [
      "[[98  4]\n",
      " [12 76]]\n"
     ]
    }
   ],
   "source": [
    "print(confusion_matrix(y_test,y_pred))"
   ]
  },
  {
   "cell_type": "code",
   "execution_count": null,
   "id": "58aa358b",
   "metadata": {},
   "outputs": [],
   "source": []
  }
 ],
 "metadata": {
  "kernelspec": {
   "display_name": "Python 3",
   "language": "python",
   "name": "python3"
  },
  "language_info": {
   "codemirror_mode": {
    "name": "ipython",
    "version": 3
   },
   "file_extension": ".py",
   "mimetype": "text/x-python",
   "name": "python",
   "nbconvert_exporter": "python",
   "pygments_lexer": "ipython3",
   "version": "3.11.4"
  }
 },
 "nbformat": 4,
 "nbformat_minor": 5
}
